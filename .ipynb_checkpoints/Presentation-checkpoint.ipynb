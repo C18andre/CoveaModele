{
 "cells": [
  {
   "cell_type": "code",
   "execution_count": 1,
   "metadata": {},
   "outputs": [
    {
     "name": "stderr",
     "output_type": "stream",
     "text": [
      "usage: ipykernel_launcher.py [-h] [--path_txt PATH_TXT]\n",
      "                             [--path_raw_csv PATH_RAW_CSV]\n",
      "                             [--path_clean_csv PATH_CLEAN_CSV]\n",
      "                             [--path_useful_csv PATH_USEFUL_CSV]\n",
      "                             [--path_data_csv PATH_DATA_CSV]\n",
      "                             [--colonnes_utiles COLONNES_UTILES]\n",
      "                             [--sample_size SAMPLE_SIZE]\n",
      "                             [--path_sample_csv PATH_SAMPLE_CSV]\n",
      "                             [--taille_train TAILLE_TRAIN]\n",
      "                             [--taille_validation TAILLE_VALIDATION]\n",
      "                             [--nb_1_layer NB_1_LAYER]\n",
      "                             [--nb_2_layer NB_2_LAYER]\n",
      "                             [--learning_rate_lstm LEARNING_RATE_LSTM]\n",
      "                             [--dropout DROPOUT]\n",
      "                             [--nb_lstm_epochs NB_LSTM_EPOCHS]\n",
      "                             [--batch_lstm_size BATCH_LSTM_SIZE]\n",
      "                             [--save_lstm_path SAVE_LSTM_PATH]\n",
      "                             [--MinMax_scaler MINMAX_SCALER]\n",
      "                             [--path_results_lstm PATH_RESULTS_LSTM] [--f F]\n",
      "ipykernel_launcher.py: error: unrecognized arguments: -f /Users/clement/Library/Jupyter/runtime/kernel-0dfed7c8-664f-4f59-8e35-1ade0db72ddc.json\n"
     ]
    },
    {
     "ename": "SystemExit",
     "evalue": "2",
     "output_type": "error",
     "traceback": [
      "An exception has occurred, use %tb to see the full traceback.\n",
      "\u001b[0;31mSystemExit\u001b[0m\u001b[0;31m:\u001b[0m 2\n"
     ]
    },
    {
     "name": "stderr",
     "output_type": "stream",
     "text": [
      "/opt/anaconda3/lib/python3.7/site-packages/IPython/core/interactiveshell.py:3327: UserWarning: To exit: use 'exit', 'quit', or Ctrl-D.\n",
      "  warn(\"To exit: use 'exit', 'quit', or Ctrl-D.\", stacklevel=1)\n"
     ]
    }
   ],
   "source": [
    "from Projet.Config.Hyperparameters import getArgs\n",
    "args = getArgs()"
   ]
  },
  {
   "cell_type": "code",
   "execution_count": null,
   "metadata": {},
   "outputs": [],
   "source": []
  }
 ],
 "metadata": {
  "kernelspec": {
   "display_name": "Python 3",
   "language": "python",
   "name": "python3"
  },
  "language_info": {
   "codemirror_mode": {
    "name": "ipython",
    "version": 3
   },
   "file_extension": ".py",
   "mimetype": "text/x-python",
   "name": "python",
   "nbconvert_exporter": "python",
   "pygments_lexer": "ipython3",
   "version": "3.7.6"
  }
 },
 "nbformat": 4,
 "nbformat_minor": 2
}
